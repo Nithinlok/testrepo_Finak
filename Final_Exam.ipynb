{
 "cells": [
  {
   "cell_type": "markdown",
   "id": "401fd506-5bbc-4a65-b789-0fa95cef435c",
   "metadata": {},
   "source": [
    "# My Jupyter Notebook on IBM Watson Studio"
   ]
  },
  {
   "cell_type": "markdown",
   "id": "20d03e96-b0f0-4dc1-b844-d359206f5475",
   "metadata": {},
   "source": [
    "**Nithin Lokesha**"
   ]
  },
  {
   "cell_type": "markdown",
   "id": "9b79ed80-2a76-4b78-9651-14254908508a",
   "metadata": {},
   "source": [
    "HW Developer"
   ]
  },
  {
   "cell_type": "markdown",
   "id": "0d7ab071-87fe-4604-96d5-620220504365",
   "metadata": {},
   "source": [
    "*I am interested in Data Science because it involves lot of complex data and you always get to learn something new\"*"
   ]
  },
  {
   "cell_type": "markdown",
   "id": "3160000b-b8a1-446d-a14f-d77448cd3158",
   "metadata": {},
   "source": [
    "### The below should print the sum of 3 and 5"
   ]
  },
  {
   "cell_type": "code",
   "execution_count": 2,
   "id": "2328abf7-12f2-437b-903b-53f95731fb81",
   "metadata": {},
   "outputs": [
    {
     "data": {
      "text/plain": [
       "8"
      ]
     },
     "execution_count": 2,
     "metadata": {},
     "output_type": "execute_result"
    }
   ],
   "source": [
    "3+5"
   ]
  },
  {
   "cell_type": "markdown",
   "id": "5c527738-e6d2-4c53-9c60-95c6856d0fb9",
   "metadata": {},
   "source": [
    "-  Bullet list"
   ]
  },
  {
   "cell_type": "markdown",
   "id": "775403b2-0725-4f63-a612-96d574ae4d33",
   "metadata": {},
   "source": [
    "~~Strikthrough~~"
   ]
  },
  {
   "cell_type": "markdown",
   "id": "4bc34435-edb8-40c0-9886-93ae52551edd",
   "metadata": {},
   "source": [
    "\n",
    "| Name      | Age | Gender  |\n",
    "| ----------|:---:| -------:|\n",
    "| Nithin    | 27  | Male    |\n",
    "| Niki      | 26  | Female  |"
   ]
  },
  {
   "cell_type": "code",
   "execution_count": null,
   "id": "f3f4ba0f-ddbc-4424-8710-bf666ee24c09",
   "metadata": {},
   "outputs": [],
   "source": []
  }
 ],
 "metadata": {
  "kernelspec": {
   "display_name": "Python",
   "language": "python",
   "name": "conda-env-python-py"
  },
  "language_info": {
   "codemirror_mode": {
    "name": "ipython",
    "version": 3
   },
   "file_extension": ".py",
   "mimetype": "text/x-python",
   "name": "python",
   "nbconvert_exporter": "python",
   "pygments_lexer": "ipython3",
   "version": "3.7.12"
  }
 },
 "nbformat": 4,
 "nbformat_minor": 5
}
